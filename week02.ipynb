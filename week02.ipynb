{
 "cells": [
  {
   "cell_type": "markdown",
   "metadata": {
    "slideshow": {
     "slide_type": "slide"
    }
   },
   "source": [
    "## CS102 - Further Computing\n",
    "\n",
    "Mark Howard<br>\n",
    "School of Mathematical & Statistical Sciences<br>\n",
    "NUI Galway<br>\n",
    "mark.howard@nuigalway.ie\n"
   ]
  },
  {
   "cell_type": "markdown",
   "metadata": {
    "slideshow": {
     "slide_type": "slide"
    }
   },
   "source": [
    "### 1. Aspects of Scientific Computing\n",
    "\n",
    "# Week 2: Understanding `python` Data Types\n",
    "Here, we review `python`'s basic data types, and some\n",
    "of their properties."
   ]
  },
  {
   "cell_type": "markdown",
   "metadata": {
    "slideshow": {
     "slide_type": "slide"
    }
   },
   "source": [
    "## Dynamic Typing\n",
    "* A statically-typed language like `C` or `Java` requires each \n",
    "  variable to be explicitly declared, together with a type.\n",
    "\n",
    "* In a dynamically-typed language like `python` this kind of\n",
    "  specification is not needed, a variable is implicitly declared\n",
    "  when it is first used."
   ]
  },
  {
   "cell_type": "markdown",
   "metadata": {
    "slideshow": {
     "slide_type": "slide"
    }
   },
   "source": [
    "## Dynamic Typing\n",
    "* For example, in `C` one might specify a particular operation as follows:\n",
    "\n",
    "```C\n",
    "/* C code */\n",
    "int result = 0;\n",
    "for (int i = 0; i < 100; i++) {\n",
    "    result += i;\n",
    "}\n",
    "```\n",
    "* In `python` the equivalent operation could be written this way:\n",
    "\n",
    "```python\n",
    "# Python code\n",
    "result = 0\n",
    "for i in range(100):\n",
    "    result += i\n",
    "```\n",
    "* In `C`, the data type of each variable (`int` for integer) is\n",
    "  explicitly declared (and thus known to the compiler).\n",
    "* In `python`, the data type is **dynamically** inferred\n",
    "  (at runtime) from the **value** of the variable."
   ]
  },
  {
   "cell_type": "markdown",
   "metadata": {
    "slideshow": {
     "slide_type": "slide"
    }
   },
   "source": [
    "* In `python`, one can write and execute the following:"
   ]
  },
  {
   "cell_type": "code",
   "execution_count": null,
   "metadata": {
    "slideshow": {
     "slide_type": "fragment"
    }
   },
   "outputs": [],
   "source": [
    "value = 0.0\n",
    "print(value == 0)\n",
    "value = \"0\"\n",
    "print(value == 0)"
   ]
  },
  {
   "cell_type": "markdown",
   "metadata": {
    "slideshow": {
     "slide_type": "fragment"
    }
   },
   "source": [
    "* The corresponding `C` code  would fail to compile."
   ]
  },
  {
   "cell_type": "markdown",
   "metadata": {
    "slideshow": {
     "slide_type": "slide"
    }
   },
   "source": [
    "* The standard `python` interpreters (and `ipython` too)\n",
    "are implemented in `C`.\n",
    "* Thus, at runtime, every `python` object is also a `C` object.\n",
    "* However, there is a big difference between a `C` variable\n",
    "  storing a `C` integer as value, and a `python` variable\n",
    "  holding a `python` integer ..."
   ]
  },
  {
   "cell_type": "markdown",
   "metadata": {
    "slideshow": {
     "slide_type": "fragment"
    }
   },
   "source": [
    "* A `C` integer variable is essentially a label for a **slot** in \n",
    "  machine memory whose bytes encode an integer value.\n",
    "* A `python` variable is a **pointer** to a complex structure in \n",
    "  memory, which contains administrative information about a\n",
    "  `python` object (such as its **type**) in addition to the \n",
    "  integer value."
   ]
  },
  {
   "cell_type": "markdown",
   "metadata": {
    "slideshow": {
     "slide_type": "slide"
    }
   },
   "source": [
    "* The integer (long) type definition effectively looks like this:\n",
    "\n",
    "```C\n",
    "/* C code */\n",
    "struct _longobject {\n",
    "    long ob_refcnt;\n",
    "    PyTypeObject *ob_type;\n",
    "    size_t ob_size;\n",
    "    long ob_digit[1];\n",
    "};\n",
    "```"
   ]
  },
  {
   "cell_type": "markdown",
   "metadata": {
    "slideshow": {
     "slide_type": "fragment"
    }
   },
   "source": [
    "A single integer in Python 3 thus actually contains four pieces:\n",
    "\n",
    "* `ob_refcnt`, a **reference** count that helps Python silently handle memory allocation and deallocation\n",
    "* `ob_type`, which encodes the **type** of the object\n",
    "* `ob_size`, which specifies the **size** of the object (i.e., its number of digits)\n",
    "* `ob_digit`, the array of digits representing an actual integer value."
   ]
  },
  {
   "cell_type": "markdown",
   "metadata": {
    "slideshow": {
     "slide_type": "fragment"
    }
   },
   "source": [
    "![](images/cint_vs_pyint.png)"
   ]
  },
  {
   "cell_type": "markdown",
   "metadata": {
    "slideshow": {
     "slide_type": "slide"
    }
   },
   "source": [
    "* The function `sys.getsizeof` reveals that in `python`, there is \n",
    "  an administrative overhead of $24$ bytes for each integer, whose\n",
    "  value only requires $4$ bytes (if it is small) ..."
   ]
  },
  {
   "cell_type": "code",
   "execution_count": null,
   "metadata": {
    "scrolled": false,
    "slideshow": {
     "slide_type": "fragment"
    }
   },
   "outputs": [],
   "source": [
    "from sys import getsizeof\n",
    "print(getsizeof(0))\n",
    "print(getsizeof(100))\n",
    "print(getsizeof(2**30-1))\n",
    "print(getsizeof(2**30))"
   ]
  },
  {
   "cell_type": "markdown",
   "metadata": {
    "slideshow": {
     "slide_type": "fragment"
    }
   },
   "source": [
    "* This memory overhead becomes even more drastic when it comes to \n",
    "  **lists** of integers."
   ]
  },
  {
   "cell_type": "markdown",
   "metadata": {
    "slideshow": {
     "slide_type": "slide"
    }
   },
   "source": [
    "## Lists in `python`\n",
    "* Dynamic typing allows lists in `python` to be heterogeneous."
   ]
  },
  {
   "cell_type": "code",
   "execution_count": null,
   "metadata": {
    "slideshow": {
     "slide_type": "fragment"
    }
   },
   "outputs": [],
   "source": [
    "L = [True, 2, 3.0, \"4\"]\n",
    "[(x, type(x)) for x in L]"
   ]
  },
  {
   "cell_type": "markdown",
   "metadata": {
    "slideshow": {
     "slide_type": "fragment"
    }
   },
   "source": [
    "* This flexibility comes at a price: each object in the list\n",
    "  stores their own administrative information."
   ]
  },
  {
   "cell_type": "code",
   "execution_count": null,
   "metadata": {
    "slideshow": {
     "slide_type": "fragment"
    }
   },
   "outputs": [],
   "source": [
    "getsizeof(L)"
   ]
  },
  {
   "cell_type": "code",
   "execution_count": null,
   "metadata": {
    "slideshow": {
     "slide_type": "fragment"
    }
   },
   "outputs": [],
   "source": [
    "[(x, getsizeof(x)) for x in L]"
   ]
  },
  {
   "cell_type": "markdown",
   "metadata": {
    "slideshow": {
     "slide_type": "slide"
    }
   },
   "source": [
    "* If all the objects in a list are of the same type, most of\n",
    "  this information is redundant.\n",
    "* It would be more efficient to store these data in a\n",
    "  fixed-type array"
   ]
  },
  {
   "cell_type": "code",
   "execution_count": null,
   "metadata": {
    "slideshow": {
     "slide_type": "fragment"
    }
   },
   "outputs": [],
   "source": [
    "#The contents plus the list object\n",
    "P = [2, 3, 5, 7, 11, 13, 17, 19]\n",
    "sum(getsizeof(x) for x in P) + getsizeof(P)"
   ]
  },
  {
   "cell_type": "markdown",
   "metadata": {
    "slideshow": {
     "slide_type": "slide"
    }
   },
   "source": [
    "## `NumPy` Arrays\n",
    "* The `numpy` package provides efficient storage and\n",
    "  efficient operations on array based data.\n",
    "  \n",
    "  ![](images/cint_vs_pyint.png)\n",
    "\n",
    "* At the implementation level, the `numpy` array essentially contains a single pointer to one contiguous block of data. \n",
    "* The Python list, on the other hand, contains a pointer to a block of pointers, each of which in turn points to a full Python object like the Python integer (above) that we saw earlier"
   ]
  },
  {
   "cell_type": "markdown",
   "metadata": {
    "slideshow": {
     "slide_type": "slide"
    }
   },
   "source": [
    "![](images/array_vs_list.png)"
   ]
  },
  {
   "cell_type": "markdown",
   "metadata": {
    "slideshow": {
     "slide_type": "slide"
    }
   },
   "source": [
    "## `NumPy` Arrays"
   ]
  },
  {
   "cell_type": "code",
   "execution_count": null,
   "metadata": {
    "slideshow": {
     "slide_type": "fragment"
    }
   },
   "outputs": [],
   "source": [
    "import numpy as np"
   ]
  },
  {
   "cell_type": "markdown",
   "metadata": {
    "slideshow": {
     "slide_type": "fragment"
    }
   },
   "source": [
    "* A `numpy` fixed-type array can be constructed from a `python` list."
   ]
  },
  {
   "cell_type": "code",
   "execution_count": null,
   "metadata": {
    "slideshow": {
     "slide_type": "fragment"
    }
   },
   "outputs": [],
   "source": [
    "a = np.array([3,1,4,1,5,9,2,6])\n",
    "a"
   ]
  },
  {
   "cell_type": "code",
   "execution_count": null,
   "metadata": {
    "slideshow": {
     "slide_type": "fragment"
    }
   },
   "outputs": [],
   "source": [
    "np.array(range(10))"
   ]
  },
  {
   "attachments": {
    "Screenshot%201-13-22%20at%2016.11.22.png": {
     "image/png": "[encoded data removed]"
    }
   },
   "cell_type": "markdown",
   "metadata": {
    "slideshow": {
     "slide_type": "slide"
    }
   },
   "source": [
    "* If necessary (and possible) `numpy` will **upcast** to\n",
    "  make all values in the array have the same type\n",
    "  ![Screenshot%201-13-22%20at%2016.11.22.png](attachment:Screenshot%201-13-22%20at%2016.11.22.png)"
   ]
  },
  {
   "cell_type": "code",
   "execution_count": null,
   "metadata": {
    "slideshow": {
     "slide_type": "fragment"
    }
   },
   "outputs": [],
   "source": [
    "np.array([3.14, 1, 5, 9, 2, 6])"
   ]
  },
  {
   "cell_type": "markdown",
   "metadata": {
    "slideshow": {
     "slide_type": "slide"
    }
   },
   "source": [
    "* Arrays can be multidimensional"
   ]
  },
  {
   "cell_type": "code",
   "execution_count": null,
   "metadata": {
    "slideshow": {
     "slide_type": "fragment"
    }
   },
   "outputs": [],
   "source": [
    "np.array([range(i, i+4) for i in [2,5,7]])"
   ]
  },
  {
   "cell_type": "markdown",
   "metadata": {
    "slideshow": {
     "slide_type": "slide"
    }
   },
   "source": [
    "* There are many ways to create arrays from scratch, using\n",
    "  `numpy`'s builtin routines."
   ]
  },
  {
   "cell_type": "code",
   "execution_count": null,
   "metadata": {
    "slideshow": {
     "slide_type": "fragment"
    }
   },
   "outputs": [],
   "source": [
    "# Create a length-10 integer array filled with zeros\n",
    "np.zeros(10, dtype=int)"
   ]
  },
  {
   "cell_type": "code",
   "execution_count": null,
   "metadata": {
    "slideshow": {
     "slide_type": "fragment"
    }
   },
   "outputs": [],
   "source": [
    "# Create a 3x5 floating-point array filled with ones\n",
    "np.ones((3, 5), dtype=float)"
   ]
  },
  {
   "cell_type": "code",
   "execution_count": null,
   "metadata": {
    "slideshow": {
     "slide_type": "fragment"
    }
   },
   "outputs": [],
   "source": [
    "# Create a 3x5 array filled with 3.14\n",
    "np.full((3, 5), 3.14)"
   ]
  },
  {
   "cell_type": "code",
   "execution_count": null,
   "metadata": {
    "slideshow": {
     "slide_type": "fragment"
    }
   },
   "outputs": [],
   "source": [
    "# Create an array filled with a linear sequence\n",
    "# Starting at 0, ending at 20, stepping by 2\n",
    "# (this is similar to the built-in range() function)\n",
    "np.arange(0, 21, 2)"
   ]
  },
  {
   "cell_type": "code",
   "execution_count": null,
   "metadata": {
    "slideshow": {
     "slide_type": "fragment"
    }
   },
   "outputs": [],
   "source": [
    "# Create an array of five values evenly spaced between 0 and 1\n",
    "np.linspace(0, 1, 5)"
   ]
  },
  {
   "cell_type": "markdown",
   "metadata": {
    "slideshow": {
     "slide_type": "slide"
    }
   },
   "source": [
    "* There are many ways to create arrays from scratch, using\n",
    "  `numpy`'s builtin routines."
   ]
  },
  {
   "cell_type": "code",
   "execution_count": null,
   "metadata": {
    "slideshow": {
     "slide_type": "fragment"
    }
   },
   "outputs": [],
   "source": [
    "# Create a 3x4 array of uniformly distributed\n",
    "# random values between 0 and 1\n",
    "np.random.random((3, 4))"
   ]
  },
  {
   "cell_type": "code",
   "execution_count": null,
   "metadata": {
    "slideshow": {
     "slide_type": "fragment"
    }
   },
   "outputs": [],
   "source": [
    "# Create a 3x4 array of normally distributed random values\n",
    "# with mean 0 and standard deviation 1\n",
    "np.random.normal(0, 1, (3, 4))"
   ]
  },
  {
   "cell_type": "code",
   "execution_count": null,
   "metadata": {
    "scrolled": true,
    "slideshow": {
     "slide_type": "fragment"
    }
   },
   "outputs": [],
   "source": [
    "# Create a 2x5 array of random integers in the interval [0, 10)\n",
    "np.random.randint(0, 10, (2, 5))"
   ]
  },
  {
   "cell_type": "code",
   "execution_count": null,
   "metadata": {
    "slideshow": {
     "slide_type": "fragment"
    }
   },
   "outputs": [],
   "source": [
    "# Create a 3x3 identity matrix\n",
    "np.eye(3, dtype=int)"
   ]
  },
  {
   "cell_type": "markdown",
   "metadata": {
    "slideshow": {
     "slide_type": "slide"
    }
   },
   "source": [
    "`numpy` arrays are stored in contiguous blocks of memory. If you want to **add rows or columns to an existing array, the entire array needs to be copied to a new block of memory**, creating gaps for the new elements to be stored. This is **very inefficient if done repeatedly to build an array.**\n",
    "\n",
    "In the case of adding rows, your best bet is to create an array that is as big as your data set will eventually be, and then assign data to it row-by-row:"
   ]
  },
  {
   "cell_type": "code",
   "execution_count": null,
   "metadata": {
    "slideshow": {
     "slide_type": "fragment"
    }
   },
   "outputs": [],
   "source": [
    "# Create an uninitialized array of three integers\n",
    "# The values will be whatever happens to already exist at that memory location\n",
    "np.empty(3)"
   ]
  },
  {
   "cell_type": "markdown",
   "metadata": {
    "slideshow": {
     "slide_type": "slide"
    }
   },
   "source": [
    "**Warning:** two arrays may share the same memory. This means you have to be sure that when you modify one object, you aren't inadvertently modifying another."
   ]
  },
  {
   "cell_type": "code",
   "execution_count": null,
   "metadata": {
    "slideshow": {
     "slide_type": "fragment"
    }
   },
   "outputs": [],
   "source": [
    "x = np.array([1, 2, 3, 4])\n",
    "y = x\n",
    "print(y)"
   ]
  },
  {
   "cell_type": "code",
   "execution_count": null,
   "metadata": {
    "scrolled": false,
    "slideshow": {
     "slide_type": "fragment"
    }
   },
   "outputs": [],
   "source": [
    "x[0] = 9\n",
    "print(y)"
   ]
  },
  {
   "cell_type": "markdown",
   "metadata": {
    "slideshow": {
     "slide_type": "fragment"
    }
   },
   "source": [
    "There are ways of checking for and preventing these kinds of mistakes"
   ]
  },
  {
   "cell_type": "markdown",
   "metadata": {
    "slideshow": {
     "slide_type": "slide"
    }
   },
   "source": [
    "## `NumPy` Standard Data Types\n",
    "\n",
    "`NumPy` arrays contain values of a single type, so it is important to have detailed knowledge of those types and their limitations.\n",
    "Because `NumPy` is built in `C`, the types will be familiar to users of `C`, `Fortran`, and other related languages.\n",
    "\n",
    "The standard `NumPy` data types are listed in the following table.\n",
    "Note that when constructing an array, they can be specified using a string:\n",
    "\n",
    "```python\n",
    "np.zeros(10, dtype='int16')\n",
    "```\n",
    "\n",
    "Or using the associated NumPy object:\n",
    "\n",
    "```python\n",
    "np.zeros(10, dtype=np.int16)\n",
    "```"
   ]
  },
  {
   "cell_type": "markdown",
   "metadata": {
    "slideshow": {
     "slide_type": "fragment"
    }
   },
   "source": [
    "| Data type\t    | Description |\n",
    "|---------------|-------------|\n",
    "| ``bool_``     | Boolean (True or False) stored as a byte |\n",
    "| ``int_``      | Default integer type (same as C ``long``; normally either ``int64`` or ``int32``)| \n",
    "| ``intc``      | Identical to C ``int`` (normally ``int32`` or ``int64``)| \n",
    "| ``intp``      | Integer used for indexing (same as C ``ssize_t``; normally either ``int32`` or ``int64``)| \n",
    "| ``int8``      | Byte (-128 to 127)| \n",
    "| ``int16``     | Integer (-32768 to 32767)|\n",
    "| ``int32``     | Integer (-2147483648 to 2147483647)|\n",
    "| ``int64``     | Integer (-9223372036854775808 to 9223372036854775807)| \n",
    "| ``uint8``     | Unsigned integer (0 to 255)| \n",
    "| ``uint16``    | Unsigned integer (0 to 65535)| \n",
    "| ``uint32``    | Unsigned integer (0 to 4294967295)| \n",
    "| ``uint64``    | Unsigned integer (0 to 18446744073709551615)| \n",
    "| ``float_``    | Shorthand for ``float64``.| \n",
    "| ``float16``   | Half precision float: sign bit, 5 bits exponent, 10 bits mantissa| \n",
    "| ``float32``   | Single precision float: sign bit, 8 bits exponent, 23 bits mantissa| \n",
    "| ``float64``   | Double precision float: sign bit, 11 bits exponent, 52 bits mantissa| \n",
    "| ``complex_``  | Shorthand for ``complex128``.| \n",
    "| ``complex64`` | Complex number, represented by two 32-bit floats| \n",
    "| ``complex128``| Complex number, represented by two 64-bit floats| "
   ]
  },
  {
   "cell_type": "markdown",
   "metadata": {
    "slideshow": {
     "slide_type": "slide"
    }
   },
   "source": [
    "## References"
   ]
  },
  {
   "cell_type": "markdown",
   "metadata": {
    "slideshow": {
     "slide_type": "fragment"
    }
   },
   "source": [
    "### `python`"
   ]
  },
  {
   "cell_type": "markdown",
   "metadata": {
    "slideshow": {
     "slide_type": "fragment"
    }
   },
   "source": [
    "* **list comprehension** [[doc]](https://docs.python.org/3/tutorial/datastructures.html#list-comprehensions) allows the construction of new list from old ones\n",
    "without explicit `for` loops (or `if` statements)."
   ]
  },
  {
   "cell_type": "code",
   "execution_count": null,
   "metadata": {
    "slideshow": {
     "slide_type": "fragment"
    }
   },
   "outputs": [],
   "source": [
    "# squares of odd numbers for x in {0,1,...,9}\n",
    "[x**2 for x in range(10) if x % 2 == 1]"
   ]
  },
  {
   "cell_type": "markdown",
   "metadata": {
    "slideshow": {
     "slide_type": "fragment"
    }
   },
   "source": [
    "* `sum`: [[doc]](https://docs.python.org/3/library/functions.html#sum) computes the sum of a list"
   ]
  },
  {
   "cell_type": "markdown",
   "metadata": {
    "slideshow": {
     "slide_type": "fragment"
    }
   },
   "source": [
    "* `str`: [[doc]](https://docs.python.org/3/library/stdtypes.html#str) converts an object to a string."
   ]
  },
  {
   "cell_type": "markdown",
   "metadata": {
    "slideshow": {
     "slide_type": "fragment"
    }
   },
   "source": [
    "### `sys`"
   ]
  },
  {
   "cell_type": "markdown",
   "metadata": {
    "slideshow": {
     "slide_type": "fragment"
    }
   },
   "source": [
    "* `getsizeof`: [[doc]](https://docs.python.org/2/library/sys.html#sys.getsizeof)\n",
    "determines the size (in bytes) of an object"
   ]
  },
  {
   "cell_type": "markdown",
   "metadata": {
    "slideshow": {
     "slide_type": "slide"
    }
   },
   "source": [
    "### `numpy`"
   ]
  },
  {
   "cell_type": "markdown",
   "metadata": {
    "slideshow": {
     "slide_type": "fragment"
    }
   },
   "source": [
    "* `np.array`: [[doc]](https://numpy.org/doc/stable/user/basics.creation.html)\n",
    "  constructs a `numpy` multidimensional array."
   ]
  },
  {
   "cell_type": "markdown",
   "metadata": {
    "slideshow": {
     "slide_type": "fragment"
    }
   },
   "source": [
    "* `dtype`: [[doc]](https://numpy.org/doc/stable/reference/arrays.dtypes.html)\n",
    "  the common type of the entries of a `numpy` array."
   ]
  },
  {
   "cell_type": "markdown",
   "metadata": {
    "slideshow": {
     "slide_type": "fragment"
    }
   },
   "source": [
    "* `np.zeros`: [[doc]](https://numpy.org/doc/stable/reference/generated/numpy.zeros.html) fills an array with $0$ values of the specified type"
   ]
  },
  {
   "cell_type": "markdown",
   "metadata": {
    "slideshow": {
     "slide_type": "fragment"
    }
   },
   "source": [
    "* `np.ones`: [[doc]](https://numpy.org/doc/stable/reference/generated/numpy.ones.html) fills an array with $1$ values"
   ]
  },
  {
   "cell_type": "markdown",
   "metadata": {
    "slideshow": {
     "slide_type": "fragment"
    }
   },
   "source": [
    "* `np.full`: [[doc]](https://numpy.org/doc/stable/reference/generated/numpy.full.html) fills an array with the given value"
   ]
  },
  {
   "cell_type": "markdown",
   "metadata": {
    "slideshow": {
     "slide_type": "fragment"
    }
   },
   "source": [
    "* `np.eye`: [[doc]](https://numpy.org/doc/stable/reference/generated/numpy.eye.html) creates the identity matrix of the given shape"
   ]
  },
  {
   "cell_type": "markdown",
   "metadata": {
    "slideshow": {
     "slide_type": "fragment"
    }
   },
   "source": [
    "* `np.empty`: [[doc]](https://numpy.org/doc/stable/reference/generated/numpy.empty.html) creates an array w/o setting the values"
   ]
  },
  {
   "cell_type": "markdown",
   "metadata": {
    "slideshow": {
     "slide_type": "slide"
    }
   },
   "source": [
    "### `numpy`"
   ]
  },
  {
   "cell_type": "markdown",
   "metadata": {
    "slideshow": {
     "slide_type": "fragment"
    }
   },
   "source": [
    "* `np.arange`: [[doc]](https://numpy.org/doc/stable/reference/generated/numpy.arange.html) constructs a range as `numpy` array."
   ]
  },
  {
   "cell_type": "markdown",
   "metadata": {
    "slideshow": {
     "slide_type": "fragment"
    }
   },
   "source": [
    "* `np.linspace`: [[doc]](https://numpy.org/doc/stable/reference/generated/numpy.linspace.html) constructs an array of equally spaced values."
   ]
  },
  {
   "cell_type": "markdown",
   "metadata": {
    "slideshow": {
     "slide_type": "fragment"
    }
   },
   "source": [
    "###  `numpy.random`"
   ]
  },
  {
   "cell_type": "markdown",
   "metadata": {
    "slideshow": {
     "slide_type": "fragment"
    }
   },
   "source": [
    "* `random`: [[doc]](https://numpy.org/doc/stable/reference/random/generated/numpy.random.random.html) fills an array with random numbers between $0$ and $1$."
   ]
  },
  {
   "cell_type": "markdown",
   "metadata": {
    "slideshow": {
     "slide_type": "fragment"
    }
   },
   "source": [
    "* `normal`: [[doc]](https://numpy.org/doc/stable/reference/random/generated/numpy.random.normal.html) draws random values from a normal distribution."
   ]
  },
  {
   "cell_type": "markdown",
   "metadata": {
    "slideshow": {
     "slide_type": "fragment"
    }
   },
   "source": [
    "* `randint`: [[doc]](https://numpy.org/doc/stable/reference/random/generated/numpy.random.randint.html) fills an array with random integers."
   ]
  },
  {
   "cell_type": "markdown",
   "metadata": {
    "slideshow": {
     "slide_type": "fragment"
    }
   },
   "source": [
    "* (Note: this subpackage has been updated and future versions should access the random number generators in a different way ...)"
   ]
  },
  {
   "cell_type": "markdown",
   "metadata": {
    "slideshow": {
     "slide_type": "slide"
    }
   },
   "source": [
    "# `numpy` arrays: Attributes, Indexing, Reshaping"
   ]
  },
  {
   "cell_type": "markdown",
   "metadata": {
    "slideshow": {
     "slide_type": "fragment"
    }
   },
   "source": [
    "* `numpy` arrays improve on `python` lists in many ways.\n",
    "* `numpy` arrays are **homogeneous** **multi-dimensional** collections of data.\n",
    "* As such, a `numpy` array has:\n",
    "    * a **shape**, specifying its size in each dimension;\n",
    "    * a common **data type** for all its elements.\n",
    "* These (and related) **attributes** of an array can be directly accessed.\n",
    "* Basic manipulation of the data in an array involves **indexing** to access single elements\n",
    "  and **slicing** to access subarrays.\n",
    "* `numpy` extends `python`s set of indexing and slicing operators.\n",
    "* The **shape** of a `numpy` array can be **modified**, without affecting the data it contains.\n",
    "* Multiple arrays can be **combined** into one.\n",
    "* Conversely, and array can be **split** into multiple parts.  "
   ]
  },
  {
   "cell_type": "markdown",
   "metadata": {
    "slideshow": {
     "slide_type": "slide"
    }
   },
   "source": [
    "* a `numpy` array is a **multi-dimensional** **homogeneous** collection of data.\n",
    "* in **mathematics** and **physics**, such an object is often called a **tensor**.\n",
    "* a `numpy` array has a **shape** and a **dtype**.\n",
    "* let's investigate these in some simple examples.\n",
    "* start with three random arrays, a one-dimensional, two-dimensional, and three-dimensional array.\n",
    "* `np.random.randint` constructs such random arrays of integers in a given range."
   ]
  },
  {
   "cell_type": "code",
   "execution_count": null,
   "metadata": {
    "slideshow": {
     "slide_type": "fragment"
    }
   },
   "outputs": [],
   "source": [
    "x0 = np.random.randint(10) # A single random integer\n",
    "x0"
   ]
  },
  {
   "cell_type": "code",
   "execution_count": null,
   "metadata": {
    "slideshow": {
     "slide_type": "fragment"
    }
   },
   "outputs": [],
   "source": [
    "x1 = np.random.randint(10, size=4)  # One-dimensional array; size means shape\n",
    "x1"
   ]
  },
  {
   "cell_type": "code",
   "execution_count": null,
   "metadata": {
    "slideshow": {
     "slide_type": "slide"
    }
   },
   "outputs": [],
   "source": [
    "x2 = np.random.randint(10, size=(3, 4))  # Two-dimensional array: shape 3 x 4\n",
    "x2"
   ]
  },
  {
   "cell_type": "code",
   "execution_count": null,
   "metadata": {
    "slideshow": {
     "slide_type": "fragment"
    }
   },
   "outputs": [],
   "source": [
    "x3 = np.random.randint(10, size=(2, 3, 4))  # Three-dimensional: shape 2 x 3 x 4\n",
    "x3"
   ]
  },
  {
   "cell_type": "code",
   "execution_count": null,
   "metadata": {
    "slideshow": {
     "slide_type": "fragment"
    }
   },
   "outputs": [],
   "source": [
    "print(x3)"
   ]
  },
  {
   "cell_type": "markdown",
   "metadata": {
    "slideshow": {
     "slide_type": "slide"
    }
   },
   "source": [
    "Each array has the attributes \n",
    "* `dtype`: the **data type** of the array.\n",
    "* `shape`: the **size in each dimension**, and"
   ]
  },
  {
   "cell_type": "code",
   "execution_count": null,
   "metadata": {
    "slideshow": {
     "slide_type": "fragment"
    }
   },
   "outputs": [],
   "source": [
    "print(\"x2 dtype:\", x2.dtype)\n",
    "print(\"x2 shape:\", x2.shape)"
   ]
  },
  {
   "cell_type": "code",
   "execution_count": null,
   "metadata": {
    "slideshow": {
     "slide_type": "fragment"
    }
   },
   "outputs": [],
   "source": [
    "print(\"x3 dtype:\", x3.dtype)\n",
    "print(\"x3 shape:\", x3.shape)"
   ]
  },
  {
   "cell_type": "markdown",
   "metadata": {
    "slideshow": {
     "slide_type": "slide"
    }
   },
   "source": [
    "Further attributes of interest are\n",
    "* `ndim`: the **number of dimensions**, and\n",
    "* `size`: the **total number** of elements."
   ]
  },
  {
   "cell_type": "code",
   "execution_count": null,
   "metadata": {
    "slideshow": {
     "slide_type": "fragment"
    }
   },
   "outputs": [],
   "source": [
    "print(\"x3 ndim: \", x3.ndim)\n",
    "print(\"x3 size: \", x3.size)"
   ]
  },
  {
   "cell_type": "markdown",
   "metadata": {
    "slideshow": {
     "slide_type": "fragment"
    }
   },
   "source": [
    "Obviously, `size` is the product of the numbers in the list `shape`, and `ndim` is the length of that list."
   ]
  },
  {
   "cell_type": "code",
   "execution_count": null,
   "metadata": {
    "slideshow": {
     "slide_type": "fragment"
    }
   },
   "outputs": [],
   "source": [
    "len(x3.shape) == x3.ndim"
   ]
  },
  {
   "cell_type": "code",
   "execution_count": null,
   "metadata": {
    "slideshow": {
     "slide_type": "fragment"
    }
   },
   "outputs": [],
   "source": [
    "# from math import prod (available from python 3.8)\n",
    "x3.size == np.prod(x3.shape)"
   ]
  },
  {
   "cell_type": "markdown",
   "metadata": {
    "slideshow": {
     "slide_type": "slide"
    }
   },
   "source": [
    "##  Exercises"
   ]
  },
  {
   "cell_type": "markdown",
   "metadata": {
    "slideshow": {
     "slide_type": "fragment"
    }
   },
   "source": [
    "\n",
    "1.  Construct a `numpy` $3 \\times 3 \\times 3$ array of $1$s (of type `int`).\n",
    "\n",
    "2. Construct a `numpy` $3 \\times 4 \\times 5$ array of random integers\n",
    "   in the range $1$ to $99$ (inclusive).\n",
    "   \n",
    "3. Create an array of $21$ values, evenly spaced between $0$ and $100$.\n",
    "\n",
    "4. Create an array with a sequence of integers,\n",
    "   starting at $1950$, ending at $2015$, stepping by $5$.\n",
    "   \n",
    "5. Create a list of all odd squares between $0$ and $10000$.\n",
    "\n",
    "6. Make a few `numpy` arrays, with random entries or ranges of integers, of varying dimensions.\n",
    "\n",
    "7. Determine the basic attributes of these arrays."
   ]
  },
  {
   "cell_type": "code",
   "execution_count": null,
   "metadata": {},
   "outputs": [],
   "source": []
  },
  {
   "cell_type": "code",
   "execution_count": null,
   "metadata": {
    "scrolled": true
   },
   "outputs": [],
   "source": [
    "A=np.ones((3,3,3), dtype=np.int_)\n",
    "print(A)\n",
    "print('A.dtype:',A.dtype)\n",
    "print('A.shape:',A.shape)"
   ]
  },
  {
   "cell_type": "code",
   "execution_count": null,
   "metadata": {
    "scrolled": true
   },
   "outputs": [],
   "source": [
    "B=np.random.randint(1, 100, (3, 4,5))\n",
    "print(B)\n",
    "print('B.dtype:',B.dtype)\n",
    "print('B.shape:',B.shape)"
   ]
  },
  {
   "cell_type": "code",
   "execution_count": null,
   "metadata": {},
   "outputs": [],
   "source": [
    "C=np.linspace(1, 100, 21)\n",
    "print(C)\n",
    "print('C.dtype:',C.dtype)\n",
    "print('C.shape:',C.shape)"
   ]
  },
  {
   "cell_type": "code",
   "execution_count": null,
   "metadata": {},
   "outputs": [],
   "source": [
    "D=np.arange(1950, 2016, 5)\n",
    "print(D)\n",
    "print('D.dtype:',D.dtype)\n",
    "print('D.shape:',D.shape)"
   ]
  },
  {
   "cell_type": "code",
   "execution_count": null,
   "metadata": {},
   "outputs": [],
   "source": [
    "[x**2 for x in range(100) if x%2==1]"
   ]
  }
 ],
 "metadata": {
  "celltoolbar": "Slideshow",
  "kernelspec": {
   "display_name": "Python 3",
   "language": "python",
   "name": "python3"
  },
  "language_info": {
   "codemirror_mode": {
    "name": "ipython",
    "version": 3
   },
   "file_extension": ".py",
   "mimetype": "text/x-python",
   "name": "python",
   "nbconvert_exporter": "python",
   "pygments_lexer": "ipython3",
   "version": "3.6.5"
  }
 },
 "nbformat": 4,
 "nbformat_minor": 2
}
